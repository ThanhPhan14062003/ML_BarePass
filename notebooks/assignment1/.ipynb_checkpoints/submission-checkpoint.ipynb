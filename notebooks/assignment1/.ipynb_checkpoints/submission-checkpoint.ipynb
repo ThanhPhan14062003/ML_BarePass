{
 "cells": [
  {
   "cell_type": "code",
   "execution_count": 1,
   "id": "fcb0a5cf-5238-4880-ba26-0104be83a006",
   "metadata": {},
   "outputs": [],
   "source": [
    "### Import Libraries\n",
    "\n",
    "import os \n",
    "\n",
    "import numpy as np\n",
    "import pandas as pd\n",
    "import matplotlib.pyplot as plt\n",
    "import seaborn as sns\n",
    "import plotly.express as px\n",
    "from PIL import Image\n",
    "from sklearn.model_selection import train_test_split\n",
    "\n",
    "import gdown\n",
    "import zipfile"
   ]
  },
  {
   "cell_type": "code",
   "execution_count": 2,
   "id": "30cd5a08-8d73-4a09-a458-fc1d936f0bb9",
   "metadata": {},
   "outputs": [],
   "source": [
    "### Set working directory\n",
    "\n",
    "#Change working directory to the base folder \"ML_BarePass\"\n",
    "\n",
    "while os.path.basename(os.getcwd()) != \"ML_BarePass\":\n",
    "    os.chdir((os.path.dirname(os.getcwd())))"
   ]
  },
  {
   "cell_type": "code",
   "execution_count": 3,
   "id": "e02ea4a3-c0d2-436a-bdb9-ef51589f551b",
   "metadata": {},
   "outputs": [],
   "source": [
    "import numpy as np\n",
    "import os\n",
    "#Change working directory to the base folder \"ML_BarePass\"\n",
    "\n",
    "while os.path.basename(os.getcwd()) != \"ML_BarePass\":\n",
    "    os.chdir((os.path.dirname(os.getcwd())))\n",
    "\n",
    "save_dir = os.path.join(os.getcwd(),'data','processed')\n",
    "\n",
    "train_folder = os.path.join(save_dir,'train')\n",
    "# val_folder = os.path.join(save_dir,'val')\n",
    "test_folder = os.path.join(save_dir,'test')\n",
    "\n",
    "X_train_file = os.path.join(train_folder,'X_train.npy')\n",
    "y_train_file = os.path.join(train_folder,'y_train.npy')\n",
    "\n",
    "X_test_file = os.path.join(test_folder,'X_test.npy')\n",
    "y_test_file = os.path.join(test_folder,'y_test.npy')\n",
    "\n",
    "# To load the data later\n",
    "X_train = np.load(X_train_file)\n",
    "y_train = np.load(y_train_file)\n",
    "\n",
    "X_test = np.load(X_test_file)\n",
    "y_test = np.load(y_test_file)"
   ]
  },
  {
   "cell_type": "code",
   "execution_count": 4,
   "id": "3a394897-8ff3-4aad-aec8-faf2a52dfb40",
   "metadata": {},
   "outputs": [],
   "source": [
    "import torch\n",
    "import torch.nn as nn\n",
    "import torch.optim as optim\n",
    "from src.data import BrainCancerDataset\n",
    "from src.models import load_model, SimpleMLP, DecisionTreeModel, HMMModel\n",
    "from src.models.train_model import train_model\n",
    "from sklearn.preprocessing import StandardScaler\n",
    "from sklearn.decomposition import PCA\n",
    "from sklearn.pipeline import Pipeline\n",
    "from sklearn.model_selection import train_test_split\n",
    "from torch.utils.data import Dataset, DataLoader"
   ]
  },
  {
   "cell_type": "code",
   "execution_count": 5,
   "id": "7f0091d1-3397-4860-8340-4e99ce96f318",
   "metadata": {},
   "outputs": [],
   "source": [
    "# Apply StandardScaler & PCA\n",
    "scaler = StandardScaler()\n",
    "X_train = scaler.fit_transform(X_train)\n",
    "X_test = scaler.transform(X_test)\n",
    "\n",
    "pca = PCA(n_components=0.95)  # Retain 95% variance\n",
    "X_train = pca.fit_transform(X_train)\n",
    "X_test = pca.transform(X_test)\n",
    "\n",
    "# Convert data into PyTorch DataLoader\n",
    "batch_size = 32\n",
    "train_dataset = BrainCancerDataset(X_train, y_train)\n",
    "train_loader = DataLoader(train_dataset, batch_size=batch_size, shuffle=True)"
   ]
  },
  {
   "cell_type": "code",
   "execution_count": 6,
   "id": "adcdf706-3e96-460b-ae0e-de2103aafb1e",
   "metadata": {},
   "outputs": [],
   "source": [
    "model_name=\"bayesian_network\"\n",
    "# [mlp, decision_tree, naive_bayes, bayesian_network, hmm]\n",
    "model = load_model(model_name, input_dim=X_train.shape[1], num_classes=3)\n",
    "\n",
    "device = torch.device(\"cuda\" if torch.cuda.is_available() else \"cpu\")"
   ]
  },
  {
   "cell_type": "code",
   "execution_count": 7,
   "id": "27296896-5ad1-43ea-910c-cfde34c4b100",
   "metadata": {},
   "outputs": [
    {
     "name": "stdout",
     "output_type": "stream",
     "text": [
      "Training bayesian_network model...\n",
      "Epoch [10/50] - Loss: 0.1200\n",
      "Epoch [20/50] - Loss: 0.0195\n",
      "Epoch [30/50] - Loss: 0.0098\n",
      "Epoch [40/50] - Loss: 0.0033\n",
      "Epoch [50/50] - Loss: 0.0021\n",
      "Training complete. Model saved.\n"
     ]
    }
   ],
   "source": [
    "# ==========================\n",
    "# Initialize & Train Model\n",
    "# ==========================\n",
    "\n",
    "\n",
    "if isinstance(model, SimpleMLP):\n",
    "    criterion = nn.CrossEntropyLoss()\n",
    "    optimizer = optim.Adam(model.parameters(), lr=0.001)\n",
    "else:\n",
    "    criterion = optimizer = None  # Decision Tree does not need them\n",
    "\n",
    "# Train the model\n",
    "print(f\"Training {model_name} model...\")\n",
    "train_model(model, train_loader, criterion, optimizer, device, epochs=100)"
   ]
  },
  {
   "cell_type": "code",
   "execution_count": null,
   "id": "c26414cb-6225-4bb4-b233-2905da5e9770",
   "metadata": {},
   "outputs": [],
   "source": []
  }
 ],
 "metadata": {
  "kernelspec": {
   "display_name": "Python 3 (ipykernel)",
   "language": "python",
   "name": "python3"
  },
  "language_info": {
   "codemirror_mode": {
    "name": "ipython",
    "version": 3
   },
   "file_extension": ".py",
   "mimetype": "text/x-python",
   "name": "python",
   "nbconvert_exporter": "python",
   "pygments_lexer": "ipython3",
   "version": "3.10.12"
  }
 },
 "nbformat": 4,
 "nbformat_minor": 5
}
